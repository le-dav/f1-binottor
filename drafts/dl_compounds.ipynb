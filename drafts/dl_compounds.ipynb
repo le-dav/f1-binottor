{
 "cells": [
  {
   "attachments": {},
   "cell_type": "markdown",
   "metadata": {},
   "source": [
    "# Imports"
   ]
  },
  {
   "cell_type": "code",
   "execution_count": 1,
   "metadata": {},
   "outputs": [],
   "source": [
    "import pandas as pd\n",
    "import numpy as np\n",
    "import seaborn as sns\n",
    "import matplotlib.pyplot as plt\n",
    "\n",
    "from sklearn.metrics import f1_score, accuracy_score\n",
    "from sklearn.pipeline import make_pipeline\n",
    "from sklearn.compose import make_column_transformer\n",
    "from sklearn.preprocessing import OneHotEncoder, RobustScaler, LabelEncoder\n",
    "from tensorflow.keras.utils import to_categorical\n",
    "from tensorflow.keras import models, layers, regularizers\n",
    "from tensorflow.keras.callbacks import EarlyStopping"
   ]
  },
  {
   "attachments": {},
   "cell_type": "markdown",
   "metadata": {},
   "source": [
    "# Loading Data"
   ]
  },
  {
   "cell_type": "code",
   "execution_count": 2,
   "metadata": {},
   "outputs": [
    {
     "name": "stderr",
     "output_type": "stream",
     "text": [
      "/var/folders/6b/wyfstlmd3c54c_2bb3_wfjh40000gn/T/ipykernel_60678/1252828457.py:1: DtypeWarning: Columns (29,37) have mixed types. Specify dtype option on import or set low_memory=False.\n",
      "  laps = pd.read_csv(\"../raw_data/new_clean_data.csv\")\n"
     ]
    }
   ],
   "source": [
    "laps = pd.read_csv(\"../raw_data/new_clean_data.csv\")"
   ]
  },
  {
   "cell_type": "code",
   "execution_count": 3,
   "metadata": {},
   "outputs": [],
   "source": [
    "X = laps.drop(columns = 'next_compound')\n",
    "y = laps['next_compound']"
   ]
  },
  {
   "cell_type": "code",
   "execution_count": 4,
   "metadata": {},
   "outputs": [],
   "source": [
    "le = LabelEncoder()\n",
    "y_le = le.fit_transform(y)\n",
    "y_cat = to_categorical(y_le, num_classes=None,dtype='float32')"
   ]
  },
  {
   "attachments": {},
   "cell_type": "markdown",
   "metadata": {},
   "source": [
    "# Train Test Val Split"
   ]
  },
  {
   "cell_type": "code",
   "execution_count": 5,
   "metadata": {},
   "outputs": [],
   "source": [
    "laps_for_model = laps.copy()\n",
    "train_df = laps_for_model[laps_for_model['Year'] < 2022]\n",
    "val_df = laps_for_model[laps_for_model['Year'] == 2022]\n",
    "test_df = laps_for_model[laps_for_model['Year'] == 2023]\n",
    "train_df_shuffled = train_df.sample(frac=1)\n",
    "val_df_shuffled = val_df.sample(frac=1)\n",
    "test_df_shuffled = test_df.sample(frac=1)\n",
    "y_train = train_df_shuffled['next_compound']\n",
    "y_val = val_df_shuffled['next_compound']\n",
    "y_test = test_df_shuffled['next_compound']\n",
    "X_train = train_df_shuffled.drop(columns=['next_compound'])\n",
    "X_val = val_df_shuffled.drop(columns=['next_compound'])\n",
    "X_test = test_df_shuffled.drop(columns=['next_compound'])"
   ]
  },
  {
   "cell_type": "code",
   "execution_count": 6,
   "metadata": {},
   "outputs": [],
   "source": [
    "le = LabelEncoder()\n",
    "y_train_le = le.fit_transform(y_train)\n",
    "y_test_le = le.transform(y_test)\n",
    "y_val_le = le.transform(y_val)\n",
    "y_train_cat = to_categorical(y_train_le, num_classes=None, dtype = 'float32')\n",
    "y_test_cat = to_categorical(y_test_le, num_classes=None, dtype = 'float32')\n",
    "y_val_cat = to_categorical(y_val_le, num_classes=None, dtype = 'float32')"
   ]
  },
  {
   "attachments": {},
   "cell_type": "markdown",
   "metadata": {},
   "source": [
    "# Preprocessing"
   ]
  },
  {
   "cell_type": "code",
   "execution_count": 7,
   "metadata": {},
   "outputs": [],
   "source": [
    "laps = laps.drop(columns = [\"Unnamed: 0.1\",\"Time\",\"DriverNumber\",\"LapTime\",\"Stint\",\"PitOutTime\",\"PitInTime\",\"Sector1Time\",\"Sector2Time\",\"Sector3Time\",\"Sector1SessionTime\",\"Sector2SessionTime\",\"Sector3SessionTime\",\"SpeedI1\", \"SpeedI2\", \"SpeedFL\", \"SpeedST\", \"LapStartTime\",\"LapStartDate\",\"TrackStatus\",\"Deleted\",\"DeletedReason\",\"FastF1Generated\",\"IsAccurate\",\"status_list\",\"TotalLaps\",\"Time_min\",\"Unnamed: 0\",\"Time_w\",\"AirTemp\",\"Humidity\",\"Pressure\",\"Rainfall\",\"WindDirection\",\"WindSpeed\",\"Final_Position\",\"LocationYear\",\"FreshTyre\",\"pitting_this_lap\"])"
   ]
  },
  {
   "cell_type": "code",
   "execution_count": 8,
   "metadata": {},
   "outputs": [],
   "source": [
    "cat_features = [\"Driver\", \"Team\", \"IsPersonalBest\", \"Location\",'second_compound', 'Compound', 'close_ahead', 'close_behind', 'is_pitting_ahead','is_pitting_behind']\n",
    "cat_features_preproc = make_pipeline(OneHotEncoder(sparse=False, handle_unknown=\"ignore\"))\n",
    "num_features = [\"LapNumber\", \"TyreLife\", \"Position\", \"TyreStressLevel\", \"RaceProgress\", \"Year\", 'LastTeamRanking','status','TrackTemp', 'pitting_next_lap']\n",
    "num_features_preproc = make_pipeline(RobustScaler())"
   ]
  },
  {
   "cell_type": "code",
   "execution_count": 9,
   "metadata": {},
   "outputs": [],
   "source": [
    "preproc_baseline = make_column_transformer((cat_features_preproc, cat_features),\n",
    "                                           (num_features_preproc, num_features),\n",
    "                                           remainder=\"passthrough\")"
   ]
  },
  {
   "cell_type": "code",
   "execution_count": 10,
   "metadata": {},
   "outputs": [
    {
     "name": "stderr",
     "output_type": "stream",
     "text": [
      "/Users/rosemansion/.pyenv/versions/3.10.6/envs/f1-binottor/lib/python3.10/site-packages/sklearn/preprocessing/_encoders.py:868: FutureWarning: `sparse` was renamed to `sparse_output` in version 1.2 and will be removed in 1.4. `sparse_output` is ignored unless you leave `sparse` to its default value.\n",
      "  warnings.warn(\n"
     ]
    }
   ],
   "source": [
    "preproc_baseline.fit(X_train)\n",
    "X_train_preproc = preproc_baseline.transform(X_train)\n",
    "X_test_preproc = preproc_baseline.transform(X_test)\n",
    "X_val_preproc = preproc_baseline.transform(X_val)"
   ]
  },
  {
   "attachments": {},
   "cell_type": "markdown",
   "metadata": {},
   "source": [
    "# Model"
   ]
  },
  {
   "cell_type": "code",
   "execution_count": 11,
   "metadata": {},
   "outputs": [],
   "source": [
    "model = models.Sequential()\n",
    "\n",
    "model.add(layers.Dense(128, activation=\"relu\", input_dim=169, kernel_regularizer=regularizers.l1(0.001)))\n",
    "model.add(layers.Dense(128, activation=\"relu\", kernel_regularizer=regularizers.l2(0.001)))\n",
    "model.add(layers.Dense(64, activation=\"relu\", kernel_regularizer=regularizers.l2(0.001)))\n",
    "model.add(layers.Dense(64, activation=\"relu\", kernel_regularizer=regularizers.l2(0.001)))\n",
    "model.add(layers.Dense(32, activation=\"relu\", kernel_regularizer=regularizers.l2(0.001)))\n",
    "model.add(layers.Dense(32, activation=\"relu\", kernel_regularizer=regularizers.l2(0.001)))\n",
    "\n",
    "model.add(layers.Dense(3, activation=\"softmax\"))\n",
    "\n",
    "model.compile(loss='categorical_crossentropy', optimizer='adam', metrics=['accuracy'])"
   ]
  },
  {
   "cell_type": "code",
   "execution_count": 15,
   "metadata": {},
   "outputs": [
    {
     "data": {
      "text/plain": [
       "Driver                object\n",
       "LapNumber            float64\n",
       "IsPersonalBest          bool\n",
       "Compound              object\n",
       "TyreLife             float64\n",
       "Team                  object\n",
       "Position             float64\n",
       "Location              object\n",
       "Year                   int64\n",
       "LastTeamRanking      float64\n",
       "second_compound         bool\n",
       "status                 int64\n",
       "RaceProgress         float64\n",
       "TyreStressLevel        int64\n",
       "TrackTemp            float64\n",
       "close_ahead             bool\n",
       "close_behind            bool\n",
       "is_pitting_ahead        bool\n",
       "is_pitting_behind       bool\n",
       "pitting_next_lap        bool\n",
       "next_compound         object\n",
       "dtype: object"
      ]
     },
     "execution_count": 15,
     "metadata": {},
     "output_type": "execute_result"
    }
   ],
   "source": [
    "laps.dtypes\n",
    "\n",
    "cat : ['Driver','Compound','Team','Location']\n",
    "num : ['LapNumber', 'IsPersonalBest', 'TyreLife', 'Position']"
   ]
  },
  {
   "cell_type": "code",
   "execution_count": 12,
   "metadata": {},
   "outputs": [
    {
     "ename": "ValueError",
     "evalue": "Failed to convert a NumPy array to a Tensor (Unsupported object type float).",
     "output_type": "error",
     "traceback": [
      "\u001b[0;31m---------------------------------------------------------------------------\u001b[0m",
      "\u001b[0;31mValueError\u001b[0m                                Traceback (most recent call last)",
      "Cell \u001b[0;32mIn[12], line 2\u001b[0m\n\u001b[1;32m      1\u001b[0m es \u001b[39m=\u001b[39m EarlyStopping(patience\u001b[39m=\u001b[39m\u001b[39m20\u001b[39m, restore_best_weights\u001b[39m=\u001b[39m\u001b[39mTrue\u001b[39;00m)\n\u001b[0;32m----> 2\u001b[0m history \u001b[39m=\u001b[39m model\u001b[39m.\u001b[39;49mfit(X_train_preproc, y_train_cat, \n\u001b[1;32m      3\u001b[0m           batch_size\u001b[39m=\u001b[39;49m\u001b[39m256\u001b[39;49m, epochs\u001b[39m=\u001b[39;49m\u001b[39m1500\u001b[39;49m, \n\u001b[1;32m      4\u001b[0m           validation_data\u001b[39m=\u001b[39;49m(X_val_preproc, y_val_cat),\n\u001b[1;32m      5\u001b[0m           callbacks\u001b[39m=\u001b[39;49m[es])\n\u001b[1;32m      6\u001b[0m history\n",
      "File \u001b[0;32m~/.pyenv/versions/3.10.6/envs/f1-binottor/lib/python3.10/site-packages/keras/src/utils/traceback_utils.py:70\u001b[0m, in \u001b[0;36mfilter_traceback.<locals>.error_handler\u001b[0;34m(*args, **kwargs)\u001b[0m\n\u001b[1;32m     67\u001b[0m     filtered_tb \u001b[39m=\u001b[39m _process_traceback_frames(e\u001b[39m.\u001b[39m__traceback__)\n\u001b[1;32m     68\u001b[0m     \u001b[39m# To get the full stack trace, call:\u001b[39;00m\n\u001b[1;32m     69\u001b[0m     \u001b[39m# `tf.debugging.disable_traceback_filtering()`\u001b[39;00m\n\u001b[0;32m---> 70\u001b[0m     \u001b[39mraise\u001b[39;00m e\u001b[39m.\u001b[39mwith_traceback(filtered_tb) \u001b[39mfrom\u001b[39;00m \u001b[39mNone\u001b[39;00m\n\u001b[1;32m     71\u001b[0m \u001b[39mfinally\u001b[39;00m:\n\u001b[1;32m     72\u001b[0m     \u001b[39mdel\u001b[39;00m filtered_tb\n",
      "File \u001b[0;32m~/.pyenv/versions/3.10.6/envs/f1-binottor/lib/python3.10/site-packages/tensorflow/python/framework/constant_op.py:98\u001b[0m, in \u001b[0;36mconvert_to_eager_tensor\u001b[0;34m(value, ctx, dtype)\u001b[0m\n\u001b[1;32m     96\u001b[0m     dtype \u001b[39m=\u001b[39m dtypes\u001b[39m.\u001b[39mas_dtype(dtype)\u001b[39m.\u001b[39mas_datatype_enum\n\u001b[1;32m     97\u001b[0m ctx\u001b[39m.\u001b[39mensure_initialized()\n\u001b[0;32m---> 98\u001b[0m \u001b[39mreturn\u001b[39;00m ops\u001b[39m.\u001b[39;49mEagerTensor(value, ctx\u001b[39m.\u001b[39;49mdevice_name, dtype)\n",
      "\u001b[0;31mValueError\u001b[0m: Failed to convert a NumPy array to a Tensor (Unsupported object type float)."
     ]
    }
   ],
   "source": [
    "es = EarlyStopping(patience=20, restore_best_weights=True)\n",
    "history = model.fit(X_train_preproc, y_train_cat, \n",
    "          batch_size=256, epochs=1500, \n",
    "          validation_data=(X_val_preproc, y_val_cat),\n",
    "          callbacks=[es])\n",
    "history"
   ]
  },
  {
   "cell_type": "code",
   "execution_count": null,
   "metadata": {},
   "outputs": [],
   "source": []
  }
 ],
 "metadata": {
  "kernelspec": {
   "display_name": "f1-binottor",
   "language": "python",
   "name": "python3"
  },
  "language_info": {
   "codemirror_mode": {
    "name": "ipython",
    "version": 3
   },
   "file_extension": ".py",
   "mimetype": "text/x-python",
   "name": "python",
   "nbconvert_exporter": "python",
   "pygments_lexer": "ipython3",
   "version": "3.10.6"
  },
  "orig_nbformat": 4
 },
 "nbformat": 4,
 "nbformat_minor": 2
}
